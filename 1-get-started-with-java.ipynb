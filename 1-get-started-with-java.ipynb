{
 "cells": [
  {
   "cell_type": "markdown",
   "id": "96803456-e6a7-4ce3-a96b-1a73d89af381",
   "metadata": {},
   "source": [
    "# Get started with Java\n",
    "\n",
    "First, Let's start with hello world, try out the commands below: "
   ]
  },
  {
   "cell_type": "code",
   "execution_count": null,
   "id": "f652d8b4-6806-4f25-9f28-9832c4108602",
   "metadata": {
    "tags": []
   },
   "outputs": [],
   "source": [
    "System.out.println(\"Hello World!\");"
   ]
  },
  {
   "cell_type": "markdown",
   "id": "1ce2d5de",
   "metadata": {},
   "source": [
    "\n",
    "You can add as many println() methods as you want. Note that it will add a new line for each method:"
   ]
  },
  {
   "cell_type": "code",
   "execution_count": null,
   "id": "7ced4d6a",
   "metadata": {},
   "outputs": [],
   "source": [
    "System.out.println(\"Hello World!\");\n",
    "System.out.println(\"I am learning Java.\");\n",
    "System.out.println(\"It is awesome!\");"
   ]
  },
  {
   "cell_type": "markdown",
   "id": "3613343f",
   "metadata": {},
   "source": [
    "### Variables\n",
    "\n",
    "Variables are containers for storing data values.\n",
    "\n",
    "* String - stores text, such as \"Hello\". String values are surrounded by double quotes\n",
    "* int - stores integers (whole numbers), without decimals, such as 123 or -123\n",
    "* float - stores floating point numbers, with decimals, such as 19.99 or -19.99\n",
    "* char - stores single characters, such as 'a' or 'B'. Char values are surrounded by single quotes\n",
    "* boolean - stores values with two states: true or false"
   ]
  },
  {
   "attachments": {},
   "cell_type": "markdown",
   "id": "e253ddbc",
   "metadata": {},
   "source": [
    "Create a variable called name of type String and assign it the value:  \"John\":"
   ]
  },
  {
   "cell_type": "code",
   "execution_count": null,
   "id": "e3f94413",
   "metadata": {},
   "outputs": [],
   "source": [
    "String name = \"John\";\n",
    "System.out.println(name);"
   ]
  },
  {
   "cell_type": "markdown",
   "id": "56cb718e",
   "metadata": {},
   "source": [
    "Create a variable called myNum of type int and assign it the value 15:"
   ]
  },
  {
   "cell_type": "code",
   "execution_count": null,
   "id": "a0ad5af4",
   "metadata": {},
   "outputs": [],
   "source": [
    "int myNum = 15;\n",
    "System.out.println(myNum);"
   ]
  },
  {
   "cell_type": "markdown",
   "id": "96b34c79",
   "metadata": {},
   "source": [
    "Other Types:\n",
    "\n",
    "A demonstration of how to declare variables of other types:"
   ]
  },
  {
   "cell_type": "code",
   "execution_count": null,
   "id": "19daaf5f",
   "metadata": {},
   "outputs": [],
   "source": [
    "int myNum = 5;\n",
    "float myFloatNum = 5.99f;\n",
    "char myLetter = 'D';\n",
    "boolean myBool = true;\n",
    "String myText = \"Hello\";"
   ]
  },
  {
   "cell_type": "code",
   "execution_count": null,
   "id": "c9fc0ea9-1957-4ad8-9323-1428ef52aee5",
   "metadata": {},
   "outputs": [],
   "source": [
    "System.out.println(myNum);\n",
    "System.out.println(myFloatNum);\n",
    "System.out.println(myLetter);\n",
    "System.out.println(myBool);\n",
    "System.out.println(myText);"
   ]
  }
 ],
 "metadata": {
  "kernelspec": {
   "display_name": "Java",
   "language": "java",
   "name": "java"
  },
  "language_info": {
   "file_extension": ".jshell",
   "mimetype": "text/x-java-source",
   "name": "Java",
   "version": ""
  }
 },
 "nbformat": 4,
 "nbformat_minor": 5
}
