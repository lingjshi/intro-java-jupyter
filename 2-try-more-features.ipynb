{
 "cells": [
  {
   "cell_type": "markdown",
   "id": "96803456-e6a7-4ce3-a96b-1a73d89af381",
   "metadata": {},
   "source": [
    "# Try More Features"
   ]
  },
  {
   "cell_type": "markdown",
   "id": "ef08fdcd-0a65-4936-bcb6-a9a2ad5cc4c1",
   "metadata": {
    "tags": []
   },
   "source": [
    "### Java Operators\n",
    "\n",
    "Operators are used to perform operations on variables and values.\n",
    "\n",
    "In the example below, we use the + operator to add together two values:"
   ]
  },
  {
   "cell_type": "code",
   "execution_count": null,
   "id": "7c409751-8615-4bb7-b2c1-32adcbb87c94",
   "metadata": {},
   "outputs": [],
   "source": [
    "int x = 100 + 50;"
   ]
  },
  {
   "cell_type": "code",
   "execution_count": null,
   "id": "779e230a",
   "metadata": {
    "vscode": {
     "languageId": "java"
    }
   },
   "outputs": [],
   "source": [
    "x"
   ]
  },
  {
   "attachments": {},
   "cell_type": "markdown",
   "id": "2f698900-7b1d-4553-908c-3fd4383e58ae",
   "metadata": {},
   "source": [
    "Although the + operator is often used to add together two values, like in the example above, it can also be used to add together a variable and a value, or a variable and another variable:"
   ]
  },
  {
   "cell_type": "code",
   "execution_count": null,
   "id": "3aa85efe-1eae-4752-98fc-ea27ae3ecce1",
   "metadata": {},
   "outputs": [],
   "source": [
    "int sum1 = 100 + 50;        // 150 (100 + 50)\n",
    "int sum2 = sum1 + 250;      // 400 (150 + 250)\n",
    "int sum3 = sum2 + sum2;     // 800 (400 + 400)"
   ]
  },
  {
   "cell_type": "code",
   "execution_count": null,
   "id": "7bfcd9ea-2544-4e1e-a331-17019f6c20be",
   "metadata": {},
   "outputs": [],
   "source": [
    "System.out.println(sum1);\n",
    "System.out.println(sum2);\n",
    "System.out.println(sum3);"
   ]
  },
  {
   "cell_type": "markdown",
   "id": "34ad0ddc-ded8-4ff6-ac12-9a8693888523",
   "metadata": {},
   "source": [
    "### Comparison Operators"
   ]
  },
  {
   "attachments": {},
   "cell_type": "markdown",
   "id": "58de9082",
   "metadata": {},
   "source": [
    "Comparison operators are used to compare two values (or variables). This is important in programming, because it helps us to find answers and make decisions.\n",
    "\n",
    "The return value of a comparison is either true or false. These values are known as Boolean values, and you will learn more about them in the Booleans and If..Else chapter.\n",
    "\n",
    "In the following example, we use the greater than operator (>) to find out if 5 is greater than 3:"
   ]
  },
  {
   "cell_type": "code",
   "execution_count": null,
   "id": "3f4f7710",
   "metadata": {},
   "outputs": [],
   "source": [
    "int x = 5;\n",
    "int y = 3;\n",
    "System.out.println(x > y); // returns true, because 5 is higher than 3"
   ]
  }
 ],
 "metadata": {
  "kernelspec": {
   "display_name": "Java",
   "language": "java",
   "name": "java"
  },
  "language_info": {
   "file_extension": ".jshell",
   "mimetype": "text/x-java-source",
   "name": "Java",
   "version": ""
  }
 },
 "nbformat": 4,
 "nbformat_minor": 5
}
